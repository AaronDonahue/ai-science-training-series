{
 "cells": [
  {
   "cell_type": "markdown",
   "id": "c8acf937-c571-402e-977b-598c583b02a8",
   "metadata": {},
   "source": [
    "# Here is my new homework submission"
   ]
  },
  {
   "cell_type": "code",
   "execution_count": 2,
   "id": "31b99957-64f3-41f5-ab54-1ea0af95ed64",
   "metadata": {},
   "outputs": [
    {
     "name": "stdout",
     "output_type": "stream",
     "text": [
      "Hello World...\n"
     ]
    }
   ],
   "source": [
    "import os,sys\n",
    "\n",
    "print(\"Hello World...\")"
   ]
  }
 ],
 "metadata": {
  "kernelspec": {
   "display_name": "Python 3 (ipykernel)",
   "language": "python",
   "name": "python3"
  },
  "language_info": {
   "codemirror_mode": {
    "name": "ipython",
    "version": 3
   },
   "file_extension": ".py",
   "mimetype": "text/x-python",
   "name": "python",
   "nbconvert_exporter": "python",
   "pygments_lexer": "ipython3",
   "version": "3.9.15"
  }
 },
 "nbformat": 4,
 "nbformat_minor": 5
}
